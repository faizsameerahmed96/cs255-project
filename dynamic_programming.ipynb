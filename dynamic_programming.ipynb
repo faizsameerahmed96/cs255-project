{
 "cells": [
  {
   "cell_type": "markdown",
   "metadata": {},
   "source": [
    "# Dynamic Programming (Held-Karp Algorithm): This algorithm uses dynamic programming to store the minimum cost of visiting subsets of cities, reducing the complexity to \n",
    "By building up from smaller subsets, it ensures the optimal path but is still exponential, making it practical up to about 20-30 cities."
   ]
  }
 ],
 "metadata": {
  "language_info": {
   "name": "python"
  }
 },
 "nbformat": 4,
 "nbformat_minor": 2
}
